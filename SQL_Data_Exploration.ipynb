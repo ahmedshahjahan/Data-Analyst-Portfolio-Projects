{
 "cells": [
  {
   "cell_type": "code",
   "execution_count": 2,
   "metadata": {},
   "outputs": [],
   "source": [
    "import pandas as pd\n",
    "import numpy as np\n",
    "import seaborn as sns\n",
    "import matplotlib.pyplot as plt"
   ]
  },
  {
   "cell_type": "code",
   "execution_count": 70,
   "metadata": {},
   "outputs": [],
   "source": [
    "df_covid_deaths = pd.read_csv('CovidDeaths.csv')\n",
    "df_covid_vaccine = pd.read_csv('CovidVaccinations.csv')\n",
    "df_covid_test = pd.read_csv('CovidTest.csv')"
   ]
  },
  {
   "cell_type": "code",
   "execution_count": 78,
   "metadata": {},
   "outputs": [
    {
     "data": {
      "text/plain": [
       "Index(['iso_code', 'continent', 'location', 'date', 'total_tests', 'new_tests',\n",
       "       'total_tests_per_thousand', 'new_tests_per_thousand',\n",
       "       'new_tests_smoothed', 'new_tests_smoothed_per_thousand',\n",
       "       'positive_rate', 'tests_per_case', 'tests_units', 'total_vaccinations',\n",
       "       'people_vaccinated', 'people_fully_vaccinated', 'total_boosters',\n",
       "       'new_vaccinations', 'new_vaccinations_smoothed',\n",
       "       'total_vaccinations_per_hundred', 'people_vaccinated_per_hundred',\n",
       "       'people_fully_vaccinated_per_hundred', 'total_boosters_per_hundred',\n",
       "       'new_vaccinations_smoothed_per_million',\n",
       "       'new_people_vaccinated_smoothed',\n",
       "       'new_people_vaccinated_smoothed_per_hundred', 'stringency_index',\n",
       "       'population_density', 'median_age', 'aged_65_older', 'aged_70_older',\n",
       "       'gdp_per_capita', 'extreme_poverty', 'cardiovasc_death_rate',\n",
       "       'diabetes_prevalence', 'female_smokers', 'male_smokers',\n",
       "       'handwashing_facilities', 'hospital_beds_per_thousand',\n",
       "       'life_expectancy', 'human_development_index',\n",
       "       'excess_mortality_cumulative_absolute', 'excess_mortality_cumulative',\n",
       "       'excess_mortality', 'excess_mortality_cumulative_per_million'],\n",
       "      dtype='object')"
      ]
     },
     "execution_count": 78,
     "metadata": {},
     "output_type": "execute_result"
    }
   ],
   "source": [
    "df_covid_vaccine.columns"
   ]
  },
  {
   "cell_type": "code",
   "execution_count": 79,
   "metadata": {},
   "outputs": [],
   "source": [
    "list2 = ['iso_code', 'continent', 'location', 'date', 'total_tests', 'new_tests',\n",
    "       'total_tests_per_thousand', 'new_tests_per_thousand',\n",
    "       'new_tests_smoothed', 'new_tests_smoothed_per_thousand',\n",
    "       'positive_rate', 'tests_per_case', 'tests_units', 'total_vaccinations',\n",
    "       'people_vaccinated', 'people_fully_vaccinated', 'total_boosters',\n",
    "       'new_vaccinations', 'new_vaccinations_smoothed',\n",
    "       'total_vaccinations_per_hundred', 'people_vaccinated_per_hundred',\n",
    "       'people_fully_vaccinated_per_hundred', 'total_boosters_per_hundred',\n",
    "       'new_vaccinations_smoothed_per_million',\n",
    "       'new_people_vaccinated_smoothed',\n",
    "       'new_people_vaccinated_smoothed_per_hundred', 'stringency_index',\n",
    "       'population_density', 'median_age', 'aged_65_older', 'aged_70_older',\n",
    "       'gdp_per_capita', 'extreme_poverty', 'cardiovasc_death_rate',\n",
    "       'diabetes_prevalence', 'female_smokers', 'male_smokers',\n",
    "       'handwashing_facilities', 'hospital_beds_per_thousand',\n",
    "       'life_expectancy', 'human_development_index',\n",
    "       'excess_mortality_cumulative_absolute', 'excess_mortality_cumulative',\n",
    "       'excess_mortality', 'excess_mortality_cumulative_per_million']"
   ]
  },
  {
   "cell_type": "code",
   "execution_count": 80,
   "metadata": {},
   "outputs": [
    {
     "name": "stdout",
     "output_type": "stream",
     "text": [
      "iso_code\n",
      "continent\n",
      "location\n",
      "date\n",
      "total_tests\n",
      "new_tests\n",
      "total_tests_per_thousand\n",
      "new_tests_per_thousand\n",
      "new_tests_smoothed\n",
      "new_tests_smoothed_per_thousand\n",
      "positive_rate\n",
      "tests_per_case\n",
      "tests_units\n",
      "total_vaccinations\n",
      "people_vaccinated\n",
      "people_fully_vaccinated\n",
      "total_boosters\n",
      "new_vaccinations\n",
      "new_vaccinations_smoothed\n",
      "total_vaccinations_per_hundred\n",
      "people_vaccinated_per_hundred\n",
      "people_fully_vaccinated_per_hundred\n",
      "total_boosters_per_hundred\n",
      "new_vaccinations_smoothed_per_million\n",
      "new_people_vaccinated_smoothed\n",
      "new_people_vaccinated_smoothed_per_hundred\n",
      "stringency_index\n",
      "population_density\n",
      "median_age\n",
      "aged_65_older\n",
      "aged_70_older\n",
      "gdp_per_capita\n",
      "extreme_poverty\n",
      "cardiovasc_death_rate\n",
      "diabetes_prevalence\n",
      "female_smokers\n",
      "male_smokers\n",
      "handwashing_facilities\n",
      "hospital_beds_per_thousand\n",
      "life_expectancy\n",
      "human_development_index\n",
      "excess_mortality_cumulative_absolute\n",
      "excess_mortality_cumulative\n",
      "excess_mortality\n",
      "excess_mortality_cumulative_per_million\n"
     ]
    }
   ],
   "source": [
    "new_list = []\n",
    "for var in list2:\n",
    "    #var = i.strip()\n",
    "    print(var)"
   ]
  },
  {
   "cell_type": "code",
   "execution_count": 81,
   "metadata": {},
   "outputs": [
    {
     "name": "stdout",
     "output_type": "stream",
     "text": [
      "<class 'pandas.core.frame.DataFrame'>\n",
      "RangeIndex: 250400 entries, 0 to 250399\n",
      "Data columns (total 45 columns):\n",
      " #   Column                                      Non-Null Count   Dtype  \n",
      "---  ------                                      --------------   -----  \n",
      " 0   iso_code                                    250400 non-null  object \n",
      " 1   continent                                   236330 non-null  object \n",
      " 2   location                                    250400 non-null  object \n",
      " 3   date                                        250400 non-null  object \n",
      " 4   total_tests                                 79387 non-null   float64\n",
      " 5   new_tests                                   75403 non-null   float64\n",
      " 6   total_tests_per_thousand                    79387 non-null   float64\n",
      " 7   new_tests_per_thousand                      75403 non-null   float64\n",
      " 8   new_tests_smoothed                          103965 non-null  float64\n",
      " 9   new_tests_smoothed_per_thousand             103965 non-null  float64\n",
      " 10  positive_rate                               95927 non-null   float64\n",
      " 11  tests_per_case                              94348 non-null   float64\n",
      " 12  tests_units                                 106788 non-null  object \n",
      " 13  total_vaccinations                          70709 non-null   float64\n",
      " 14  people_vaccinated                           67596 non-null   float64\n",
      " 15  people_fully_vaccinated                     64941 non-null   float64\n",
      " 16  total_boosters                              39631 non-null   float64\n",
      " 17  new_vaccinations                            58635 non-null   float64\n",
      " 18  new_vaccinations_smoothed                   149216 non-null  float64\n",
      " 19  total_vaccinations_per_hundred              70709 non-null   float64\n",
      " 20  people_vaccinated_per_hundred               67596 non-null   float64\n",
      " 21  people_fully_vaccinated_per_hundred         64941 non-null   float64\n",
      " 22  total_boosters_per_hundred                  39631 non-null   float64\n",
      " 23  new_vaccinations_smoothed_per_million       149216 non-null  float64\n",
      " 24  new_people_vaccinated_smoothed              148961 non-null  float64\n",
      " 25  new_people_vaccinated_smoothed_per_hundred  148961 non-null  float64\n",
      " 26  stringency_index                            183961 non-null  float64\n",
      " 27  population_density                          218150 non-null  float64\n",
      " 28  median_age                                  201782 non-null  float64\n",
      " 29  aged_65_older                               199655 non-null  float64\n",
      " 30  aged_70_older                               200727 non-null  float64\n",
      " 31  gdp_per_capita                              201384 non-null  float64\n",
      " 32  extreme_poverty                             131147 non-null  float64\n",
      " 33  cardiovasc_death_rate                       201195 non-null  float64\n",
      " 34  diabetes_prevalence                         211729 non-null  float64\n",
      " 35  female_smokers                              152532 non-null  float64\n",
      " 36  male_smokers                                150445 non-null  float64\n",
      " 37  handwashing_facilities                      99222 non-null   float64\n",
      " 38  hospital_beds_per_thousand                  179341 non-null  float64\n",
      " 39  life_expectancy                             229714 non-null  float64\n",
      " 40  human_development_index                     196597 non-null  float64\n",
      " 41  excess_mortality_cumulative_absolute        8240 non-null    float64\n",
      " 42  excess_mortality_cumulative                 8240 non-null    float64\n",
      " 43  excess_mortality                            8279 non-null    float64\n",
      " 44  excess_mortality_cumulative_per_million     8240 non-null    float64\n",
      "dtypes: float64(40), object(5)\n",
      "memory usage: 86.0+ MB\n"
     ]
    }
   ],
   "source": [
    "df_covid_vaccine.info()"
   ]
  },
  {
   "cell_type": "code",
   "execution_count": 74,
   "metadata": {},
   "outputs": [
    {
     "name": "stdout",
     "output_type": "stream",
     "text": [
      "<class 'pandas.core.frame.DataFrame'>\n",
      "RangeIndex: 250400 entries, 0 to 250399\n",
      "Data columns (total 5 columns):\n",
      " #   Column      Non-Null Count   Dtype  \n",
      "---  ------      --------------   -----  \n",
      " 0   iso_code    250400 non-null  object \n",
      " 1   continent   236330 non-null  object \n",
      " 2   location    250400 non-null  object \n",
      " 3   date        250400 non-null  object \n",
      " 4   population  249326 non-null  float64\n",
      "dtypes: float64(1), object(4)\n",
      "memory usage: 9.6+ MB\n"
     ]
    }
   ],
   "source": [
    "df_covid_test.info()"
   ]
  },
  {
   "cell_type": "code",
   "execution_count": 59,
   "metadata": {},
   "outputs": [],
   "source": [
    "var = 'name'"
   ]
  },
  {
   "cell_type": "code",
   "execution_count": 60,
   "metadata": {},
   "outputs": [],
   "source": [
    "var = var.strip()"
   ]
  },
  {
   "cell_type": "code",
   "execution_count": 61,
   "metadata": {},
   "outputs": [
    {
     "data": {
      "text/plain": [
       "'name'"
      ]
     },
     "execution_count": 61,
     "metadata": {},
     "output_type": "execute_result"
    }
   ],
   "source": [
    "var"
   ]
  },
  {
   "cell_type": "code",
   "execution_count": 75,
   "metadata": {},
   "outputs": [
    {
     "name": "stdout",
     "output_type": "stream",
     "text": [
      "iso_code\n",
      "continent\n",
      "location\n",
      "date\n",
      "population\n"
     ]
    }
   ],
   "source": [
    "for i in ['iso_code', 'continent', 'location', 'date', 'population']:\n",
    "    print(i)"
   ]
  }
 ],
 "metadata": {
  "kernelspec": {
   "display_name": "Python 3",
   "language": "python",
   "name": "python3"
  },
  "language_info": {
   "codemirror_mode": {
    "name": "ipython",
    "version": 3
   },
   "file_extension": ".py",
   "mimetype": "text/x-python",
   "name": "python",
   "nbconvert_exporter": "python",
   "pygments_lexer": "ipython3",
   "version": "3.8.5"
  }
 },
 "nbformat": 4,
 "nbformat_minor": 4
}
