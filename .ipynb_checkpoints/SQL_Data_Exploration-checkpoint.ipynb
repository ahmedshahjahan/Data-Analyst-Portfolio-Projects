{
 "cells": [
  {
   "cell_type": "code",
   "execution_count": 2,
   "metadata": {},
   "outputs": [],
   "source": [
    "import pandas as pd\n",
    "import numpy as np\n",
    "import seaborn as sns\n",
    "import matplotlib.pyplot as plt"
   ]
  },
  {
   "cell_type": "code",
   "execution_count": 70,
   "metadata": {},
   "outputs": [],
   "source": [
    "df_covid_deaths = pd.read_csv('CovidDeaths.csv')\n",
    "df_covid_vaccine = pd.read_csv('CovidVaccinations.csv')\n",
    "df_covid_test = pd.read_csv('CovidTest.csv')"
   ]
  },
  {
   "cell_type": "code",
   "execution_count": 41,
   "metadata": {},
   "outputs": [],
   "source": [
    "list1 = df_covid_deaths.columns\n",
    "list2 = ['iso_code', 'continent', 'location', 'date', 'population',\n",
    "       'total_cases', 'new_cases', 'new_cases_smoothed', 'total_deaths',\n",
    "       'new_deaths', 'new_deaths_smoothed', 'total_cases_per_million',\n",
    "       'new_cases_per_million', 'new_cases_smoothed_per_million',\n",
    "       'total_deaths_per_million', 'new_deaths_per_million',\n",
    "       'new_deaths_smoothed_per_million', 'reproduction_rate', 'icu_patients',\n",
    "       'icu_patients_per_million', 'hosp_patients',\n",
    "       'hosp_patients_per_million', 'weekly_icu_admissions',\n",
    "       'weekly_icu_admissions_per_million', 'weekly_hosp_admissions',\n",
    "       'weekly_hosp_admissions_per_million']"
   ]
  },
  {
   "cell_type": "code",
   "execution_count": 69,
   "metadata": {},
   "outputs": [
    {
     "name": "stdout",
     "output_type": "stream",
     "text": [
      "iso_code\n",
      "continent\n",
      "location\n",
      "date\n",
      "population\n",
      "total_cases\n",
      "new_cases\n",
      "new_cases_smoothed\n",
      "total_deaths\n",
      "new_deaths\n",
      "new_deaths_smoothed\n",
      "total_cases_per_million\n",
      "new_cases_per_million\n",
      "new_cases_smoothed_per_million\n",
      "total_deaths_per_million\n",
      "new_deaths_per_million\n",
      "new_deaths_smoothed_per_million\n",
      "reproduction_rate\n",
      "icu_patients\n",
      "icu_patients_per_million\n",
      "hosp_patients\n",
      "hosp_patients_per_million\n",
      "weekly_icu_admissions\n",
      "weekly_icu_admissions_per_million\n",
      "weekly_hosp_admissions\n",
      "weekly_hosp_admissions_per_million\n"
     ]
    }
   ],
   "source": [
    "new_list = []\n",
    "for var in list2:\n",
    "    #var = i.strip()\n",
    "    print(var)"
   ]
  },
  {
   "cell_type": "code",
   "execution_count": 71,
   "metadata": {},
   "outputs": [
    {
     "data": {
      "text/html": [
       "<div>\n",
       "<style scoped>\n",
       "    .dataframe tbody tr th:only-of-type {\n",
       "        vertical-align: middle;\n",
       "    }\n",
       "\n",
       "    .dataframe tbody tr th {\n",
       "        vertical-align: top;\n",
       "    }\n",
       "\n",
       "    .dataframe thead th {\n",
       "        text-align: right;\n",
       "    }\n",
       "</style>\n",
       "<table border=\"1\" class=\"dataframe\">\n",
       "  <thead>\n",
       "    <tr style=\"text-align: right;\">\n",
       "      <th></th>\n",
       "      <th>iso_code</th>\n",
       "      <th>continent</th>\n",
       "      <th>location</th>\n",
       "      <th>date</th>\n",
       "      <th>population</th>\n",
       "    </tr>\n",
       "  </thead>\n",
       "  <tbody>\n",
       "    <tr>\n",
       "      <th>0</th>\n",
       "      <td>AFG</td>\n",
       "      <td>Asia</td>\n",
       "      <td>Afghanistan</td>\n",
       "      <td>2/24/2020</td>\n",
       "      <td>41128772.0</td>\n",
       "    </tr>\n",
       "    <tr>\n",
       "      <th>1</th>\n",
       "      <td>AFG</td>\n",
       "      <td>Asia</td>\n",
       "      <td>Afghanistan</td>\n",
       "      <td>2/25/2020</td>\n",
       "      <td>41128772.0</td>\n",
       "    </tr>\n",
       "    <tr>\n",
       "      <th>2</th>\n",
       "      <td>AFG</td>\n",
       "      <td>Asia</td>\n",
       "      <td>Afghanistan</td>\n",
       "      <td>2/26/2020</td>\n",
       "      <td>41128772.0</td>\n",
       "    </tr>\n",
       "    <tr>\n",
       "      <th>3</th>\n",
       "      <td>AFG</td>\n",
       "      <td>Asia</td>\n",
       "      <td>Afghanistan</td>\n",
       "      <td>2/27/2020</td>\n",
       "      <td>41128772.0</td>\n",
       "    </tr>\n",
       "    <tr>\n",
       "      <th>4</th>\n",
       "      <td>AFG</td>\n",
       "      <td>Asia</td>\n",
       "      <td>Afghanistan</td>\n",
       "      <td>2/28/2020</td>\n",
       "      <td>41128772.0</td>\n",
       "    </tr>\n",
       "  </tbody>\n",
       "</table>\n",
       "</div>"
      ],
      "text/plain": [
       "  iso_code continent     location       date  population\n",
       "0      AFG      Asia  Afghanistan  2/24/2020  41128772.0\n",
       "1      AFG      Asia  Afghanistan  2/25/2020  41128772.0\n",
       "2      AFG      Asia  Afghanistan  2/26/2020  41128772.0\n",
       "3      AFG      Asia  Afghanistan  2/27/2020  41128772.0\n",
       "4      AFG      Asia  Afghanistan  2/28/2020  41128772.0"
      ]
     },
     "execution_count": 71,
     "metadata": {},
     "output_type": "execute_result"
    }
   ],
   "source": [
    "df_covid_test.head()"
   ]
  },
  {
   "cell_type": "code",
   "execution_count": null,
   "metadata": {},
   "outputs": [],
   "source": []
  },
  {
   "cell_type": "code",
   "execution_count": 59,
   "metadata": {},
   "outputs": [],
   "source": [
    "var = 'name'"
   ]
  },
  {
   "cell_type": "code",
   "execution_count": 60,
   "metadata": {},
   "outputs": [],
   "source": [
    "var = var.strip()"
   ]
  },
  {
   "cell_type": "code",
   "execution_count": 61,
   "metadata": {},
   "outputs": [
    {
     "data": {
      "text/plain": [
       "'name'"
      ]
     },
     "execution_count": 61,
     "metadata": {},
     "output_type": "execute_result"
    }
   ],
   "source": [
    "var"
   ]
  },
  {
   "cell_type": "code",
   "execution_count": null,
   "metadata": {},
   "outputs": [],
   "source": []
  }
 ],
 "metadata": {
  "kernelspec": {
   "display_name": "Python 3",
   "language": "python",
   "name": "python3"
  },
  "language_info": {
   "codemirror_mode": {
    "name": "ipython",
    "version": 3
   },
   "file_extension": ".py",
   "mimetype": "text/x-python",
   "name": "python",
   "nbconvert_exporter": "python",
   "pygments_lexer": "ipython3",
   "version": "3.8.5"
  }
 },
 "nbformat": 4,
 "nbformat_minor": 4
}
